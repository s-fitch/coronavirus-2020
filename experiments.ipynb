{
 "metadata": {
  "language_info": {
   "codemirror_mode": {
    "name": "ipython",
    "version": 3
   },
   "file_extension": ".py",
   "mimetype": "text/x-python",
   "name": "python",
   "nbconvert_exporter": "python",
   "pygments_lexer": "ipython3",
   "version": "3.7.10"
  },
  "orig_nbformat": 2,
  "kernelspec": {
   "name": "python3710jvsc74a57bd0a30f62550be578253eee01851baff7e4e5c30db1cc76da7f6e5f253531fbeb0e",
   "display_name": "Python 3.7.10 64-bit ('coronavirus': conda)"
  },
  "metadata": {
   "interpreter": {
    "hash": "a30f62550be578253eee01851baff7e4e5c30db1cc76da7f6e5f253531fbeb0e"
   }
  }
 },
 "nbformat": 4,
 "nbformat_minor": 2,
 "cells": [
  {
   "source": [
    "# CS349 Final: Coronavirus Experiments"
   ],
   "cell_type": "markdown",
   "metadata": {}
  },
  {
   "source": [
    "## Initialization"
   ],
   "cell_type": "markdown",
   "metadata": {}
  },
  {
   "cell_type": "code",
   "execution_count": 15,
   "metadata": {},
   "outputs": [],
   "source": [
    "import os\n",
    "from utils import data\n",
    "import pandas as pd\n",
    "import numpy as np\n",
    "import matplotlib.pyplot as plt\n",
    "\n",
    "# --------- HYPERPARAMETERS ------------\n",
    "BASE_PATH = './COVID-19/csse_covid_19_data/'\n",
    "TIME_SERIES_PATH = 'csse_covid_19_time_series'\n",
    "US_CONFIRMED_PATH = 'time_series_covid19_confirmed_US.csv'\n",
    "GLOBAL_CONFIRMED_PATH= 'time_series_covid19_confirmed_US.csv'\n",
    "# --------------------------------------\n",
    "\n"
   ]
  },
  {
   "source": [
    "## US State-by-State Analysis"
   ],
   "cell_type": "markdown",
   "metadata": {}
  },
  {
   "source": [
    "### Load State Time Series Data"
   ],
   "cell_type": "markdown",
   "metadata": {}
  },
  {
   "cell_type": "code",
   "execution_count": 34,
   "metadata": {},
   "outputs": [],
   "source": [
    "\n",
    "us_confirmed = os.path.join(BASE_PATH, TIME_SERIES_PATH, US_CONFIRMED_PATH)\n",
    "us_confirmed = data.load_csv_data(us_confirmed)\n",
    "\n",
    "\n",
    "# Aggregate data for each state\n",
    "cases = []\n",
    "labels = []\n",
    "\n",
    "for state in np.unique(us_confirmed['Province_State']):\n",
    "    df = data.filter_by_attribute(\n",
    "        us_confirmed, \"Province_State\", state)\n",
    "    state_cases = np.array(df.iloc[:, 11:])\n",
    "    cases.append(list(np.sum(state_cases, axis=0)))\n",
    "    labels.append(state)\n",
    "\n",
    "cases = np.array(cases)\n",
    "labels = np.array(labels)\n",
    "    "
   ]
  },
  {
   "source": [
    "### Visualize Data"
   ],
   "cell_type": "markdown",
   "metadata": {}
  },
  {
   "cell_type": "code",
   "execution_count": 30,
   "metadata": {},
   "outputs": [
    {
     "output_type": "stream",
     "name": "stdout",
     "text": [
      "[[1, 2, 3, 4], [4, 5, 6, 7]]\nNone\n"
     ]
    }
   ],
   "source": []
  }
 ]
}